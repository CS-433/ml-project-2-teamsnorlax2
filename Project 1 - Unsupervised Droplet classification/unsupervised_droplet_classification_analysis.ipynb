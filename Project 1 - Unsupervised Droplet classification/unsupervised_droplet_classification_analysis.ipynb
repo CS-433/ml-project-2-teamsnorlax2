{
  "cells": [
    {
      "cell_type": "code",
      "execution_count": null,
      "metadata": {
        "colab": {
          "base_uri": "https://localhost:8080/"
        },
        "id": "elErqWjhW7Ne",
        "outputId": "737fb8b0-2073-4a16-dee5-8bb070e5ca2f"
      },
      "outputs": [
        {
          "output_type": "stream",
          "name": "stdout",
          "text": [
            "Drive already mounted at /content/drive; to attempt to forcibly remount, call drive.mount(\"/content/drive\", force_remount=True).\n",
            "/content/drive/MyDrive/EPFL HS21/Machine Learning CS-433/projects/ML team project/Project 2\n"
          ]
        }
      ],
      "source": [
        "co#Mount drive to access the data\n",
        "from google.colab import drive\n",
        "drive.mount('/content/drive')\n",
        "%cd /content/drive/MyDrive/EPFL HS21/Machine Learning CS-433/projects/ML team project/Project 2"
      ]
    },
    {
      "cell_type": "code",
      "execution_count": null,
      "metadata": {
        "id": "8-9r_ucQkcxz"
      },
      "outputs": [],
      "source": [
        "#Paths to data for easy access\n",
        "folder_path_full = \"extracted_droplets_reduced_radius\"\n",
        "folder_path_sample = \"extracted_droplets_sample\"\n",
        "folder_path_destination = \"labelling_test\"\n",
        "folder_path_all_droplets = \"extracted_droplets_new_subset\"\n",
        "folder_path_unlabelled = \"droplets_unlabelled\"\n",
        "folder_path_labelled = \"droplets_labelled\""
      ]
    },
    {
      "cell_type": "markdown",
      "metadata": {
        "id": "iKfc2T6fPmZ7"
      },
      "source": [
        "### Helper functions"
      ]
    },
    {
      "cell_type": "code",
      "execution_count": null,
      "metadata": {
        "colab": {
          "base_uri": "https://localhost:8080/"
        },
        "id": "qCEMdQfEZc3C",
        "outputId": "fadfac03-6274-48af-9281-ea00203fcc37"
      },
      "outputs": [
        {
          "output_type": "stream",
          "name": "stdout",
          "text": [
            "Requirement already satisfied: scikit-learn-extra in /usr/local/lib/python3.7/dist-packages (0.2.0)\n",
            "Requirement already satisfied: scikit-learn>=0.23.0 in /usr/local/lib/python3.7/dist-packages (from scikit-learn-extra) (1.0.1)\n",
            "Requirement already satisfied: scipy>=0.19.1 in /usr/local/lib/python3.7/dist-packages (from scikit-learn-extra) (1.4.1)\n",
            "Requirement already satisfied: numpy>=1.13.3 in /usr/local/lib/python3.7/dist-packages (from scikit-learn-extra) (1.19.5)\n",
            "Requirement already satisfied: threadpoolctl>=2.0.0 in /usr/local/lib/python3.7/dist-packages (from scikit-learn>=0.23.0->scikit-learn-extra) (3.0.0)\n",
            "Requirement already satisfied: joblib>=0.11 in /usr/local/lib/python3.7/dist-packages (from scikit-learn>=0.23.0->scikit-learn-extra) (1.1.0)\n"
          ]
        }
      ],
      "source": [
        "!pip install scikit-learn-extra"
      ]
    },
    {
      "cell_type": "code",
      "execution_count": null,
      "metadata": {
        "id": "pI88M7OiOyrw"
      },
      "outputs": [],
      "source": [
        "import sys, os\n",
        "import pickle\n",
        "import numpy as np\n",
        "import pandas as pd\n",
        "import skimage.color\n",
        "import skimage.io\n",
        "import skimage.measure\n",
        "import shutil\n",
        "from matplotlib import pyplot as plt\n",
        "from sklearn.cluster import KMeans\n",
        "from sklearn.mixture import GaussianMixture\n",
        "from sklearn_extra.cluster import KMedoids\n",
        "from sklearn.metrics import confusion_matrix"
      ]
    },
    {
      "cell_type": "code",
      "execution_count": null,
      "metadata": {
        "id": "QRptAgLYUZ-t"
      },
      "outputs": [],
      "source": [
        "def get_all_filenames_in_folder(folder_path):\n",
        "  #returns only files, not folders\n",
        "  return [f for f in os.listdir(folder_path) if os.path.isfile(os.path.join(folder_path, f))]\n"
      ]
    },
    {
      "cell_type": "code",
      "execution_count": null,
      "metadata": {
        "id": "ZMJAkR-BSZPi"
      },
      "outputs": [],
      "source": [
        "def load_image(file_path):\n",
        "  image = skimage.io.imread(fname=file_path, as_gray=True)\n",
        "  return image"
      ]
    },
    {
      "cell_type": "code",
      "execution_count": null,
      "metadata": {
        "id": "_9qxi6JhmITx"
      },
      "outputs": [],
      "source": [
        "def standardize_matrix(matrix):\n",
        "   return (matrix - np.mean(matrix)) / np.std(matrix)"
      ]
    },
    {
      "cell_type": "code",
      "execution_count": null,
      "metadata": {
        "id": "gSnNcCK5q-kx"
      },
      "outputs": [],
      "source": [
        "def get_image_std(image):\n",
        "  image = image[image != 0] #renove ure black (0) pixels\n",
        "  image = image[image != 255] #remove pure white (255) pixels\n",
        "  return image.std()\n",
        "\n",
        "def preprocess_image(image, standardize=False):\n",
        "  image = skimage.measure.block_reduce(image, (2,2), np.min) #min pooling to accentuate dark items\n",
        "  image = image[image != 0] #renove pure black (0) pixels\n",
        "  image = image[image > 30] #renove dark pixels that are less than 20 (very dark colours that are likely shadows)\n",
        "  image = image[image <= 240] #remove pure white (255) pixels\n",
        "  if standardize:\n",
        "    image = image-np.median(image)\n",
        "    image = standardize_matrix(image)\n",
        "  else: pass\n",
        "  return image.ravel()\n",
        "\n",
        "def preprocess_image_secondary_split(image, quantile=10):\n",
        "  image = skimage.measure.block_reduce(image, (2,2), np.max) #min pooling to accentuate dark items\n",
        "  image = image[image != 0] #renove pure black (0) pixels\n",
        "  image = image[image > 30] #renove dark pixels that are less than 20 (very dark colours that are likely shadows)\n",
        "  image = image[image <= 240] #remove pure white (255) pixels\n",
        "  median_norm = image-np.median(image)\n",
        "  standard_median_norm = standardize_matrix(median_norm)\n",
        "  metric = np.percentile(standard_median_norm, q=quantile) - np.median(standard_median_norm)\n",
        "  return metric.ravel()\n",
        "\n",
        "def bincount(a):\n",
        "    y = np.bincount(a)\n",
        "    ii = np.nonzero(y)[0]\n",
        "    return np.vstack((ii, y[ii])).T"
      ]
    },
    {
      "cell_type": "code",
      "execution_count": null,
      "metadata": {
        "id": "hwk6F3SAHmOq"
      },
      "outputs": [],
      "source": [
        "def list_files_in_subdirs(dir):                                                                                                  \n",
        "    r = []                                                                                                       \n",
        "    subdirs = [x[0] for x in os.walk(dir)]                                                                           \n",
        "    for subdir in subdirs:                                                                                            \n",
        "        files = get_all_filenames_in_folder(subdir)                                                                            \n",
        "        if (len(files) > 0):                                                                                          \n",
        "            for file in files:                                                                                        \n",
        "                r.append(os.path.join(subdir, file))                                                                         \n",
        "    return r "
      ]
    },
    {
      "cell_type": "code",
      "execution_count": null,
      "metadata": {
        "id": "JFR9GgvmkoVQ"
      },
      "outputs": [],
      "source": [
        "#make list of pixel matrices (one for each image)\n",
        "def get_image_from_folder(folder_path, return_labels = False):\n",
        "  #folder_path -> the path of the folder on which the images have to be classified\n",
        "  list_of_file_names = get_all_filenames_in_folder(folder_path) #list_files_in_subdirs(folder_path)\n",
        "  list_of_image_matrices = []\n",
        "  list_of_image_labels = []\n",
        "  for file_name in list_of_file_names: #iterate through all the files in the specified folder\n",
        "    #load image\n",
        "    image = load_image(os.path.join(folder_path, file_name))\n",
        "    label = file_name[0]\n",
        "\n",
        "    list_of_image_matrices.append(image)\n",
        "    list_of_image_labels.append(int(label))\n",
        "  if return_labels == True:\n",
        "    return list_of_image_matrices, list_of_image_labels #a list of array of shape (image_shape), list of labels\n",
        "  else:\n",
        "    return list_of_image_matrices"
      ]
    },
    {
      "cell_type": "code",
      "execution_count": null,
      "metadata": {
        "id": "UpAgOq7Ikcra"
      },
      "outputs": [],
      "source": [
        "#get image and labels for the 1k labelled randomly selected sample\n",
        "#images, labels = get_image_from_folder(folder_path_labelled, return_labels = True)\n",
        "\n",
        "#save the arrays for further use\n",
        "#np.save('droplets_labelled_matrices.npy', images)\n",
        "#np.save('droplets_labelled_labels.npy', labels)"
      ]
    },
    {
      "cell_type": "markdown",
      "source": [
        "### Multifeature approach (Benchmark)\n",
        "\n",
        "In this approach we first analyse the 1000 labelled images and retrieve several feature from them. All the features are collected into a table and are then fed into several unsupervised (KMedoids) and supervised (DecisionTreeClassifier) from the SKlearn library.\n",
        "\n",
        "The results for both benchmark trials are not conclusive and show that the fully unsupervised approach based on the intercluster distance metric works better in terms of accuracy.\n",
        "\n",
        "Further research could focus on creating a larger labelled dataset that could improve the overall accuracy of the supervised model.\n",
        "\n",
        "The models are taken from the SkLearn library.\n",
        "\n"
      ],
      "metadata": {
        "id": "baETo4RDlW56"
      }
    },
    {
      "cell_type": "markdown",
      "source": [
        "#### Supervised DecisionTreeClassifier model"
      ],
      "metadata": {
        "id": "vVUQ-9XGynUR"
      }
    },
    {
      "cell_type": "code",
      "source": [
        "def get_image_selected_feature(image):\n",
        "  image = preprocess_image(image, standardize=True)\n",
        "\n",
        "  mean_colour = image.mean()\n",
        "  median_colour = np.median(image)\n",
        "  colour_percentile_10 = np.percentile(image, q=10)\n",
        "  colour_percentile_20 = np.percentile(image, q=20)\n",
        "  colour_percentile_30 = np.percentile(image, q=30)\n",
        "  colour_percentile_40 = np.percentile(image, q=40)\n",
        "  colour_percentile_50 = np.percentile(image, q=50)\n",
        "  colour_percentile_60 = np.percentile(image, q=60)\n",
        "  colour_percentile_70 = np.percentile(image, q=70)\n",
        "  colour_percentile_80 = np.percentile(image, q=80)\n",
        "  colour_percentile_90 = np.percentile(image, q=90)\n",
        "  colour_percentile_60_median_norm = np.percentile(image, q=60) - np.median(image)\n",
        "  colour_percentile_70_median_norm = np.percentile(image, q=70) - np.median(image)\n",
        "  colour_percentile_80_median_norm = np.percentile(image, q=80) - np.median(image)\n",
        "  colour_percentile_90_median_norm = np.percentile(image, q=90) - np.median(image)\n",
        "\n",
        "  selected_features = [\n",
        "        median_colour, \n",
        "        colour_percentile_10, \n",
        "        colour_percentile_20, \n",
        "        colour_percentile_30, \n",
        "        colour_percentile_40, \n",
        "        colour_percentile_50, \n",
        "        colour_percentile_60, \n",
        "        colour_percentile_70, \n",
        "        colour_percentile_80, \n",
        "        colour_percentile_90, \n",
        "        colour_percentile_60_median_norm, \n",
        "        colour_percentile_70_median_norm, \n",
        "        colour_percentile_80_median_norm, \n",
        "        colour_percentile_90_median_norm]\n",
        "\n",
        "  return selected_features\n",
        "\n",
        "#creating an empty dataframe to store the image characteristics\n",
        "column_names = [\n",
        "    'median_colour',\n",
        "    'colour_percentile_10',\n",
        "    'colour_percentile_20',\n",
        "    'colour_percentile_30',\n",
        "    'colour_percentile_40',\n",
        "    'colour_percentile_50',\n",
        "    'colour_percentile_60',\n",
        "    'colour_percentile_70',\n",
        "    'colour_percentile_80',\n",
        "    'colour_percentile_90',\n",
        "    'colour_percentile_60_median_norm',\n",
        "    'colour_percentile_70_median_norm',\n",
        "    'colour_percentile_80_median_norm',\n",
        "    'colour_percentile_90_median_norm']\n",
        "image_features = pd.DataFrame(columns = column_names)\n",
        "\n",
        "#getting the selected image features for each image\n",
        "for image in images:\n",
        "  row = get_image_selected_feature(image)\n",
        "  image_features.loc[len(image_features)] = row"
      ],
      "metadata": {
        "id": "QpMCJuDplbg4"
      },
      "execution_count": null,
      "outputs": []
    },
    {
      "cell_type": "code",
      "source": [
        "from sklearn import tree\n",
        "from sklearn.model_selection import train_test_split\n",
        "\n",
        "accuracy_train_acc = []\n",
        "accuracy_test_acc = []\n",
        "max_depth = []\n",
        "\n",
        "#slit data in train and test set\n",
        "X_train, X_test, y_train, y_test = train_test_split(image_features, labels, test_size=0.30, random_state=123)\n",
        "\n",
        "for tree_depth in range(1,6):\n",
        "  #train model\n",
        "  clf = tree.DecisionTreeClassifier(max_depth=tree_depth, random_state=123)\n",
        "  clf.fit(X_train, y_train)\n",
        "  predictions_train = clf.predict(X_train)\n",
        "  cm, accuracy_train = make_confusion_matrix(predictions_train, y_train)\n",
        "\n",
        "  #test model\n",
        "  predictions_test = clf.predict(X_test)\n",
        "  cm, accuracy_test = make_confusion_matrix(predictions_test, y_test)\n",
        "\n",
        "  #accumulate data\n",
        "  accuracy_train_acc.append(accuracy_train)\n",
        "  accuracy_test_acc.append(accuracy_test)\n",
        "  max_depth.append(tree_depth)\n",
        "\n",
        "#plot the results\n",
        "plt.plot(max_depth, accuracy_train_acc, label = \"accuracy_train\", color = 'red')\n",
        "plt.plot(max_depth, accuracy_test_acc, label = \"accuracy_test\", color = 'blue')\n",
        "plt.axhspan(.91, .93, alpha=0.5, label=\"expected performance area .92 accuracy\", color='lightskyblue') #axhline(y=0.91, color=\"lightskyblue\")\n",
        "plt.xlabel(\"max_depth\")\n",
        "plt.ylabel(\"accuracy\")\n",
        "plt.legend()"
      ],
      "metadata": {
        "colab": {
          "base_uri": "https://localhost:8080/"
        },
        "id": "Kd2oZ566o39f",
        "outputId": "080d0772-5998-4f8c-8fea-233550175b9a"
      },
      "execution_count": null,
      "outputs": [
        {
          "output_type": "stream",
          "name": "stdout",
          "text": [
            "total observations:  700\n",
            "accuracy:  0.8114285714285714\n",
            "precision:  0.9135338345864662\n",
            "recall:  0.6903409090909091\n",
            "[[325  23]\n",
            " [109 243]]\n",
            "total observations:  300\n",
            "accuracy:  0.7366666666666667\n",
            "precision:  0.8671875\n",
            "recall:  0.6416184971098265\n",
            "[[110  17]\n",
            " [ 62 111]]\n",
            "total observations:  700\n",
            "accuracy:  0.91\n",
            "precision:  0.9135338345864662\n",
            "recall:  0.8586572438162544\n",
            "[[394  23]\n",
            " [ 40 243]]\n",
            "total observations:  300\n",
            "accuracy:  0.85\n",
            "precision:  0.8515625\n",
            "recall:  0.8074074074074075\n",
            "[[146  19]\n",
            " [ 26 109]]\n",
            "total observations:  700\n",
            "accuracy:  0.9471428571428572\n",
            "precision:  0.9962406015037594\n",
            "recall:  0.8803986710963455\n",
            "[[398   1]\n",
            " [ 36 265]]\n",
            "total observations:  300\n",
            "accuracy:  0.92\n",
            "precision:  0.96875\n",
            "recall:  0.8611111111111112\n",
            "[[152   4]\n",
            " [ 20 124]]\n",
            "total observations:  700\n",
            "accuracy:  0.9728571428571429\n",
            "precision:  1.0\n",
            "recall:  0.9333333333333333\n",
            "[[415   0]\n",
            " [ 19 266]]\n",
            "total observations:  300\n",
            "accuracy:  0.9433333333333334\n",
            "precision:  0.96875\n",
            "recall:  0.9051094890510949\n",
            "[[159   4]\n",
            " [ 13 124]]\n",
            "total observations:  700\n",
            "accuracy:  0.9857142857142858\n",
            "precision:  0.9962406015037594\n",
            "recall:  0.9671532846715328\n",
            "[[425   1]\n",
            " [  9 265]]\n",
            "total observations:  300\n",
            "accuracy:  0.9433333333333334\n",
            "precision:  0.9453125\n",
            "recall:  0.9236641221374046\n",
            "[[162   7]\n",
            " [ 10 121]]\n"
          ]
        },
        {
          "output_type": "execute_result",
          "data": {
            "text/plain": [
              "<matplotlib.legend.Legend at 0x7f22e3e879d0>"
            ]
          },
          "metadata": {},
          "execution_count": 81
        },
        {
          "output_type": "display_data",
          "data": {
            "image/png": "[encoded data removed]",
            "text/plain": [
              "<Figure size 432x288 with 1 Axes>"
            ]
          },
          "metadata": {
            "needs_background": "light"
          }
        }
      ]
    },
    {
      "cell_type": "markdown",
      "source": [
        "#### Supervised approach with Kmedoids (with multi-feature metrics)\n",
        "\n",
        "The result is non conclusive. There is a higher precision and lower recall than with the fully unsupervised approach with intercluster distance metric. \n",
        "\n",
        "The accuracy of the multi-feature unsupervised KMedoid model (0.724) is lower than the single metric models (both kmeans and Kmedoids)."
      ],
      "metadata": {
        "id": "iGN8nsytw7bL"
      }
    },
    {
      "cell_type": "code",
      "source": [
        "multi_feature_model = KMedoids(n_clusters=2, random_state=123)\n",
        "multi_feature_model.fit(image_features)\n",
        "model_centroids = multi_feature_model.cluster_centers_.ravel().tolist()\n",
        "centroid_difference = max(model_centroids) - min(model_centroids)\n",
        "\n",
        "predictions = multi_feature_model.predict(image_features)\n",
        "\n",
        "make_confusion_matrix(predictions, labels)"
      ],
      "metadata": {
        "colab": {
          "base_uri": "https://localhost:8080/"
        },
        "id": "hwHxuiVgw-Xd",
        "outputId": "86207ec1-0290-4b37-ac00-2e5488eac151"
      },
      "execution_count": null,
      "outputs": [
        {
          "output_type": "stream",
          "name": "stdout",
          "text": [
            "total observations:  1000\n",
            "accuracy:  0.724\n",
            "precision:  0.9720812182741116\n",
            "recall:  0.5910493827160493\n",
            "[[341  11]\n",
            " [265 383]]\n"
          ]
        },
        {
          "output_type": "execute_result",
          "data": {
            "text/plain": [
              "(array([[341,  11],\n",
              "        [265, 383]]), 0.724)"
            ]
          },
          "metadata": {},
          "execution_count": 82
        }
      ]
    },
    {
      "cell_type": "code",
      "execution_count": null,
      "metadata": {
        "colab": {
          "base_uri": "https://localhost:8080/"
        },
        "id": "2q9A5votAP_W",
        "outputId": "942d5cc8-0566-4e66-d639-ca17003e3f2b"
      },
      "outputs": [
        {
          "output_type": "stream",
          "name": "stdout",
          "text": [
            "Length of labelled set:  1000\n"
          ]
        }
      ],
      "source": [
        "#load saved array to speed up image processing\n",
        "images = np.load(\"droplets_labelled_matrices.npy\", allow_pickle=True)\n",
        "labels = np.load(\"droplets_labelled_labels.npy\", allow_pickle=True)\n",
        "\n",
        "print(\"Length of labelled set: \", len(labels))"
      ]
    },
    {
      "cell_type": "markdown",
      "metadata": {
        "id": "-hulToWYX7YA"
      },
      "source": [
        "## InterCluster Distance Metric (ICD) approach\n",
        "\n",
        "The following models follow the ICD approach developped internally by our team. The problem we are facing is FULLY UNSUPERVISED.\n",
        "\n",
        "The approach consider a single metric for image classification, the ICD.\n",
        "For each individual preprocessed images, we will train a 2-cluster model in order to classify in 2 group the preprocessed pixels of that image. We then compute the intercluster distance and infer that if the ICD metric is low, then the droplets are empty and if the ICD metric is large, then it means that the droplet is full since there are both dark (cell activty) and light (background) coloured pixels in the same image.\n",
        "\n",
        "Once all the ICD metric collected, we run a second 2-cluster clustering model (Kmeans, Kmedoids and Gaussian mixture models tried) that will cluster the ICD metric in 2 groups. This will bring us the definition of what is \"low\" and \"high\" intercluster distance. This model is run on all the ICD metrics (not only on a single image since it would only be 1 metric then).\n",
        "\n",
        "The results are very conclusive. The KMedoid model, rebust to outliers, obtain the following best scores:\n",
        "- accuracy:  0.913\n",
        "- precision:  0.9593908629441624\n",
        "- recall:  0.8418708240534521\n",
        "\n",
        "The KMedoids model is retained. Gaussian misture and Kmeans models are not robust enough to outliers. The models offer also slower model speed performanced than the Kmedoid model. \n",
        "\n",
        "\n"
      ]
    },
    {
      "cell_type": "markdown",
      "source": [
        "### Classification stage 1 (initial classification)\n",
        "\n",
        "This section will train and then use a global model (shared across all image of all microscope pictures).\n",
        "It will make a first prediction on wether the images are in class 1 or 0."
      ],
      "metadata": {
        "id": "UrLHTZLB2JuH"
      }
    },
    {
      "cell_type": "markdown",
      "metadata": {
        "id": "MoaHnvBUYRPu"
      },
      "source": [
        "### 1.1.2 Making intial predictions (with a trained and saved model that we re-load to make predictions)"
      ]
    },
    {
      "cell_type": "markdown",
      "source": [
        "#### This code predicts for the **Initial KMedoids and Kmeans** approaches"
      ],
      "metadata": {
        "id": "rvzMfQ4K2p62"
      }
    },
    {
      "cell_type": "code",
      "execution_count": null,
      "metadata": {
        "id": "bnOK6Mxrh59b"
      },
      "outputs": [],
      "source": [
        "# CLASSIFICATION STAGE 1 (using the pre-trained model)\n",
        "\n",
        "# The \"initial split\" that will determine if the images belong to either:\n",
        "# 0. empty droplets\n",
        "# 1. full droplets OR empty droplets with noise (will have to be futher classified for robustness to noise)\n",
        "def get_initial_prediction_split_pretrained(images, approach = \"KMedoids\"):\n",
        "  centroid_difference_acc = np.array([])\n",
        "  initial_predictions = np.array([])\n",
        "  for image in images:\n",
        "    #processs image\n",
        "    preprocessed_image = preprocess_image(image).reshape(-1, 1)\n",
        "\n",
        "    #initialize model 2 clusters\n",
        "    individual_model = KMeans(n_clusters=2, random_state=123)\n",
        "\n",
        "    #train model 2 clusters\n",
        "    individual_model.fit(preprocessed_image)\n",
        "\n",
        "    #get model centroids information\n",
        "    model_centroids = individual_model.cluster_centers_.ravel().tolist()\n",
        "    centroid_difference = max(model_centroids) - min(model_centroids)\n",
        "    centroid_difference_acc = np.append(centroid_difference_acc, centroid_difference) #accumulate all centroids in an array to cluster them\n",
        "\n",
        "  \n",
        "  #train clustering model on the centroid_differences to find the optimal thresholds\n",
        "  if approach == \"KMedoids\":\n",
        "    initial_split_model = pickle.load(open(\"initial_split_model_KMedoids.pkl\", \"rb\"))\n",
        "  elif approach == \"KMeans\":\n",
        "    initial_split_model = pickle.load(open(\"initial_split_model_KMeans.pkl\", \"rb\"))\n",
        "  prediction_initial_split = initial_split_model.predict(centroid_difference_acc.reshape(-1, 1))\n",
        "  \n",
        "  #get model cluster centers and their values\n",
        "  model_centroids_initial_split = initial_split_model.cluster_centers_.ravel().tolist()\n",
        "  print(\"Initial split model centroids (loaded model): \", model_centroids_initial_split)\n",
        "  model_centroids_initial_split_min_value = min(model_centroids_initial_split)\n",
        "  model_centroids_initial_split_min_class = model_centroids_initial_split.index(model_centroids_initial_split_min_value)\n",
        "  model_centroids_initial_split_max_value = max(model_centroids_initial_split)\n",
        "  model_centroids_initial_split_max_class = model_centroids_initial_split.index(model_centroids_initial_split_max_value)\n",
        "\n",
        "  for pred in prediction_initial_split:\n",
        "    if pred == model_centroids_initial_split_min_class:\n",
        "      # intially classified empty droplets do not have to be further processed\n",
        "      label = 0\n",
        "    else:\n",
        "      # initially classified \"full\" droplets have to be reprocessed for robustness to noise (done in another function)\n",
        "      label = 1\n",
        "    initial_predictions = np.append(initial_predictions, label)\n",
        "  return initial_predictions #array of predicted labels (0=empty, 1=full or empty with noise)"
      ]
    },
    {
      "cell_type": "markdown",
      "metadata": {
        "id": "7xdWLc6xej0M"
      },
      "source": [
        "#### This code predicts for the **Initial Gaussian mixture** approach"
      ]
    },
    {
      "cell_type": "code",
      "execution_count": null,
      "metadata": {
        "id": "NXyposSEemeN"
      },
      "outputs": [],
      "source": [
        "# CLASSIFICATION STAGE 1 (using the pre-trained model)\n",
        "\n",
        "# The \"initial split\" that will determine if the images belong to either:\n",
        "# 0. empty droplets\n",
        "# 1. full droplets OR empty droplets with noise (will have to be futher classified for robustness to noise)\n",
        "def get_initial_prediction_split_gaussian(images):\n",
        "  centroid_difference_acc = np.array([])\n",
        "  initial_predictions = np.array([])\n",
        "  for image in images:\n",
        "    #processs image\n",
        "    preprocessed_image = preprocess_image(image).reshape(-1, 1)\n",
        "\n",
        "    #initialize model 2 clusters\n",
        "    individual_model = KMeans(n_clusters=2, random_state=123)\n",
        "\n",
        "    #train model 2 clusters\n",
        "    individual_model.fit(preprocessed_image)\n",
        "\n",
        "    #get model centroids information\n",
        "    model_centroids = individual_model.cluster_centers_.ravel().tolist()\n",
        "    centroid_difference = max(model_centroids) - min(model_centroids)\n",
        "    centroid_difference_acc = np.append(centroid_difference_acc, centroid_difference) #accumulate all centroids in an array to cluster them\n",
        "\n",
        "  \n",
        "  #train clustering model on the centroid_differences to find the optimal thresholds\n",
        "  initial_split_model = pickle.load(open(\"initial_split_model_gaussian.pkl\", \"rb\")) #GAUSSIAN mixture\n",
        "  prediction_initial_split = initial_split_model.predict(centroid_difference_acc.reshape(-1, 1))\n",
        "  prediction_initial_split_proba = initial_split_model.predict_proba(centroid_difference_acc.reshape(-1, 1)) #[:,1]\n",
        "  \n",
        "  return prediction_initial_split #initial_predictions #array of predicted labels (0=empty, 1=full or empty with noise)"
      ]
    },
    {
      "cell_type": "markdown",
      "source": [
        "#### This code predicts for the **Secondary prediction** approach"
      ],
      "metadata": {
        "id": "uCFI5KgM5I0_"
      }
    },
    {
      "cell_type": "code",
      "source": [
        "# CLASSIFICATION STAGE 2\n",
        "# The \"secondary split\" that will determine if the images belong to either:\n",
        "# 0. empty droplets with noise (will be labelled 0 in the end)\n",
        "# 1. full droplets (will be labelled 1 in the end)\n",
        " \n",
        "def get_secondary_predictions(images, initial_predictions): #list of image matrices, array of initial predictions corresponding to the images\n",
        "  smallest_class_to_total_ratio_acc = np.array([])\n",
        "  secondary_predictions = np.array([])\n",
        "  for image, initial_prediction in zip(images, initial_predictions):\n",
        "    if initial_prediction == 0: #ignore already classified negatives\n",
        "      smallest_class_to_total_ratio_acc = np.append(smallest_class_to_total_ratio_acc, -1)\n",
        "    else: #futher process intially classified positives\n",
        "      secondary_metric = preprocess_image_secondary_split(image, quantile=10)\n",
        "      smallest_class_to_total_ratio_acc = np.append(smallest_class_to_total_ratio_acc, secondary_metric)\n",
        "  \n",
        "  #initialize, train and predict secondary classification model\n",
        "  secondary_split_model = KMeans(n_clusters=2, random_state=123) #using KMEANS or KMEDOIDS to split quantile metric of interest\n",
        "  secondary_split_model.fit(smallest_class_to_total_ratio_acc[smallest_class_to_total_ratio_acc != -1].reshape(-1, 1))\n",
        "\n",
        "  #save model (only for training)\n",
        "  #pickle.dump(secondary_split_model, open(\"secondary_split_KMeans_split_quantile.pkl\", \"wb\"))\n",
        "  \n",
        "  #load model\n",
        "  secondary_split_model = pickle.load(open(\"secondary_split_KMeans_split_quantile.pkl\", \"rb\"))\n",
        "  \n",
        "  #compute metrics of interest\n",
        "  model_centroids_secondary_split = secondary_split_model.cluster_centers_.ravel().tolist()\n",
        "  print(\"Secondary split model centroids: \", model_centroids_secondary_split)\n",
        "  model_centroids_secondary_split_min_value = min(model_centroids_secondary_split)\n",
        "  model_centroids_secondary_split_min_class = model_centroids_secondary_split.index(model_centroids_secondary_split_min_value)\n",
        "  model_centroids_secondary_split_max_value = max(model_centroids_secondary_split)\n",
        "  model_centroids_secondary_split_max_class = model_centroids_secondary_split.index(model_centroids_secondary_split_max_value)\n",
        "  \n",
        "  #predict with secondary model\n",
        "  for initial_prediction, three_cluster_ratio_score in zip(initial_predictions, smallest_class_to_total_ratio_acc):\n",
        "    if initial_prediction == 0:\n",
        "      label = 0\n",
        "    else:\n",
        "      prediction = int(secondary_split_model.predict(three_cluster_ratio_score.reshape(-1, 1)))\n",
        "      if prediction == model_centroids_secondary_split_max_class:\n",
        "        label = 0\n",
        "      else:\n",
        "        label = 1\n",
        "    secondary_predictions = np.append(secondary_predictions, label)\n",
        "  \n",
        "  return secondary_predictions #an ordered array of predictions\n",
        " \n",
        "#secondary_predictions = get_secondary_predictions(images, initial_predictions)\n",
        "#print(secondary_predictions)"
      ],
      "metadata": {
        "id": "AKfcru5o5Q2Q"
      },
      "execution_count": null,
      "outputs": []
    },
    {
      "cell_type": "markdown",
      "metadata": {
        "id": "dQa1CmwNsw0f"
      },
      "source": [
        "## Evaluation\n",
        "\n",
        "In this section we evaluates the different models with a labelled image set of 1000 images randomly selected from our entire image dataset to be representative of all the image qualities and categories that we have in the dataset."
      ]
    },
    {
      "cell_type": "code",
      "execution_count": null,
      "metadata": {
        "id": "VlDjr-lumfZH"
      },
      "outputs": [],
      "source": [
        "def make_confusion_matrix(predicted, actuals):\n",
        "  cm = confusion_matrix(predicted, actuals)\n",
        "  tn, fp, fn, tp = cm.ravel()\n",
        "  total_observations = len(actuals)\n",
        "  accuracy = (tp+tn)/total_observations\n",
        "  precision = tp/(tp+fp)\n",
        "  recall = tp/(tp+fn)\n",
        "\n",
        "  print(\"total observations: \", total_observations)\n",
        "  print(\"accuracy: \", accuracy)\n",
        "  print(\"precision: \", precision)\n",
        "  print(\"recall: \", recall)\n",
        "  print(cm)\n",
        "  return cm, accuracy\n",
        "\n",
        "def make_predictions(input_data, approach=\"KMedoids\"):\n",
        "  #make predictions\n",
        "  if approach == \"KMedoids\":\n",
        "    initial_predictions = get_initial_prediction_split_pretrained(input_data, approach = \"KMedoids\")\n",
        "    predicted = initial_predictions\n",
        "  elif approach == \"KMedoids_KMeans_split_quantile\":\n",
        "    initial_predictions = get_initial_prediction_split_pretrained(input_data, approach = \"KMedoids\")\n",
        "    predicted = get_secondary_predictions(input_data, initial_predictions)\n",
        "  elif approach == \"KMeans\":\n",
        "    initial_predictions = get_initial_prediction_split_pretrained(input_data, approach = \"KMeans\") #model to be trained\n",
        "    predicted = initial_predictions\n",
        "  elif approach == \"GaussianMixture\":\n",
        "    initial_predictions = get_initial_prediction_split_gaussian(input_data)\n",
        "    predicted = initial_predictions\n",
        "  elif approach == \"KMedoids_Kmeans_intercluster_range\":\n",
        "    initial_predictions = get_initial_prediction_split_pretrained(input_data)\n",
        "    predicted = get_secondary_predictions(input_data, initial_predictions)\n",
        "  else: pass\n",
        "\n",
        "  return predicted"
      ]
    },
    {
      "cell_type": "code",
      "execution_count": null,
      "metadata": {
        "colab": {
          "base_uri": "https://localhost:8080/"
        },
        "id": "0sndYYb6tRV7",
        "outputId": "57d547c7-04a1-499d-9583-92079c2d0682"
      },
      "outputs": [
        {
          "output_type": "stream",
          "name": "stdout",
          "text": [
            "Initial split model centroids (loaded model):  [5.711734061027045, 24.512209302325573]\n",
            "total observations:  1000\n",
            "accuracy:  0.913\n",
            "precision:  0.9593908629441624\n",
            "recall:  0.8418708240534521\n",
            "[[535  16]\n",
            " [ 71 378]]\n"
          ]
        }
      ],
      "source": [
        "# BEST PERFORMANCE\n",
        "predictions_KMedoids = make_predictions(images, approach=\"KMedoids\")\n",
        "cm, accuracy = make_confusion_matrix(predictions_KMedoids, labels)"
      ]
    },
    {
      "cell_type": "code",
      "execution_count": null,
      "metadata": {
        "id": "PsEnB66co9hu",
        "colab": {
          "base_uri": "https://localhost:8080/"
        },
        "outputId": "90fb2ec0-5a2f-440d-e759-4ead8c2a674b"
      },
      "outputs": [
        {
          "output_type": "stream",
          "name": "stdout",
          "text": [
            "total observations:  1000\n",
            "accuracy:  0.589\n",
            "precision:  0.015228426395939087\n",
            "recall:  0.20689655172413793\n",
            "[[583 388]\n",
            " [ 23   6]]\n"
          ]
        }
      ],
      "source": [
        "predictions_GaussianMixture = make_predictions(images, approach=\"GaussianMixture\")\n",
        "cm, accuracy = make_confusion_matrix(predictions_GaussianMixture, labels)"
      ]
    },
    {
      "cell_type": "code",
      "source": [
        "predictions_KMeans = make_predictions(images, approach=\"KMeans\")\n",
        "cm, accuracy = make_confusion_matrix(predictions_KMeans, labels)"
      ],
      "metadata": {
        "id": "FlJeUm_bzobX",
        "colab": {
          "base_uri": "https://localhost:8080/"
        },
        "outputId": "f15e90d5-7639-4acf-b681-7d5d91947701"
      },
      "execution_count": null,
      "outputs": [
        {
          "output_type": "stream",
          "name": "stdout",
          "text": [
            "Initial split model centroids (loaded model):  [72.40411653359088, 16.398768442285007]\n",
            "total observations:  1000\n",
            "accuracy:  0.588\n",
            "precision:  0.015228426395939087\n",
            "recall:  0.2\n",
            "[[582 388]\n",
            " [ 24   6]]\n"
          ]
        }
      ]
    },
    {
      "cell_type": "code",
      "source": [
        "#Quantile metric Kmeans (individual model) and Kmedoids prediction (initial model prediction) models. \n",
        "#The 10th quantile metric is selected to use a KMEANS cluster models on secondary split model\n",
        "#Non conclusive tests (Benchmark)\n",
        "predictions_KMedoids_KMeans_split_quantile = make_predictions(images, approach=\"KMedoids_KMeans_split_quantile\")\n",
        "cm, accuracy = make_confusion_matrix(predictions_KMedoids_KMeans_split_quantile, labels)\n",
        "\n",
        "#Best performance on the labelled dataset but real data shows that other models have better performance on edge cases"
      ],
      "metadata": {
        "colab": {
          "base_uri": "https://localhost:8080/"
        },
        "id": "1J_yWFpQHmiF",
        "outputId": "66110066-8369-4115-d96d-20abfc35ad3f"
      },
      "execution_count": null,
      "outputs": [
        {
          "output_type": "stream",
          "name": "stdout",
          "text": [
            "Initial split model centroids (loaded model):  [5.711734061027045, 24.512209302325573]\n",
            "Secondary split model centroids:  [-1.3619960315569155, -0.8190035210238797]\n",
            "total observations:  1000\n",
            "accuracy:  0.938\n",
            "precision:  0.8807106598984772\n",
            "recall:  0.9585635359116023\n",
            "[[591  47]\n",
            " [ 15 347]]\n"
          ]
        }
      ]
    },
    {
      "cell_type": "code",
      "source": [
        "#Quantile metric Kmeans (individual model) and Kmedoids prediction (initial model prediction) models. \n",
        "#The 10th quantile metric is selected to use a KMEDOIDS cluster models on secondary split model\n",
        "#Non conclusive tests (Benchmark)\n",
        "predictions_KMedoids_KMeans_split_quantile = make_predictions(images, approach=\"KMedoids_KMeans_split_quantile\")\n",
        "cm, accuracy = make_confusion_matrix(predictions_KMedoids_KMeans_split_quantile, labels)"
      ],
      "metadata": {
        "colab": {
          "base_uri": "https://localhost:8080/"
        },
        "id": "_uEcgaLe7hal",
        "outputId": "2835cc98-b105-444b-946e-84e17b7caee9"
      },
      "execution_count": null,
      "outputs": [
        {
          "output_type": "stream",
          "name": "stdout",
          "text": [
            "Initial split model centroids (loaded model):  [5.711734061027045, 24.512209302325573]\n",
            "Secondary split model centroids:  [-1.3619960315569155, -0.8190035210238797]\n",
            "total observations:  1000\n",
            "accuracy:  0.938\n",
            "precision:  0.8807106598984772\n",
            "recall:  0.9585635359116023\n",
            "[[591  47]\n",
            " [ 15 347]]\n"
          ]
        }
      ]
    },
    {
      "cell_type": "markdown",
      "source": [
        "## Various utility functions for visuliaztion and manual annotations"
      ],
      "metadata": {
        "id": "w7aPnUZ-4s-2"
      }
    },
    {
      "cell_type": "code",
      "execution_count": null,
      "metadata": {
        "colab": {
          "base_uri": "https://localhost:8080/"
        },
        "id": "ExscvZ7iSkXP",
        "outputId": "91958cad-a1f2-46d9-9b49-823eb8d212c3"
      },
      "outputs": [
        {
          "name": "stdout",
          "output_type": "stream",
          "text": [
            "Initial split model centroids (loaded model):  [5.711734061027045, 24.512209302325573]\n"
          ]
        }
      ],
      "source": [
        "def write_images_to_drive_for_prediction(folder_path, folder_path_destination):\n",
        "  #folder_path -> the path of the folder on which the images have to be classified\n",
        "\n",
        "  #make predictions from the images in folder_path\n",
        "  images = get_image_from_folder(folder_path)\n",
        "  initial_predictions = get_initial_prediction_split_pretrained(images)\n",
        "  secondary_predictions = initial_predictions #get_secondary_predictions(images, initial_predictions)\n",
        "\n",
        "\n",
        "  #make a copy of files into folder_path_destination for visual inspection\n",
        "  list_of_file_names = get_all_filenames_in_folder(folder_path)\n",
        "  counter = 0\n",
        "  for file_name, prediction in zip(list_of_file_names, secondary_predictions): #iterate through all the files in the specified folder\n",
        "    file_path = folder_path + \"/\" + file_name\n",
        "\n",
        "    #if prediction in [0,1,2]:\n",
        "      #save image\n",
        "    destination_file_path = folder_path_destination + \"/\" + str(int(prediction)) + \"_\" + str(counter) + \".jpg\" #str(round(prediction*1000))\n",
        "    shutil.copy(file_path, destination_file_path)\n",
        "\n",
        "    counter += 1\n",
        "\n",
        "write_images_to_drive_for_prediction(folder_path_unlabelled, folder_path_labelled)"
      ]
    },
    {
      "cell_type": "code",
      "execution_count": null,
      "metadata": {
        "colab": {
          "base_uri": "https://localhost:8080/",
          "height": 1000
        },
        "id": "zajuSw8o3JvE",
        "outputId": "41cad2f4-a7bb-4402-c023-f4bc59d701aa"
      },
      "outputs": [
        {
          "name": "stdout",
          "output_type": "stream",
          "text": [
            "\n",
            "-1.5491948129615707\n"
          ]
        },
        {
          "data": {
            "image/png": "[encoded data removed]",
            "text/plain": [
              "<Figure size 432x288 with 1 Axes>"
            ]
          },
          "metadata": {},
          "output_type": "display_data"
        },
        {
          "name": "stdout",
          "output_type": "stream",
          "text": [
            "-0.9150102034264115\n"
          ]
        },
        {
          "data": {
            "image/png": "[encoded data removed]",
            "text/plain": [
              "<Figure size 432x288 with 1 Axes>"
            ]
          },
          "metadata": {},
          "output_type": "display_data"
        },
        {
          "name": "stdout",
          "output_type": "stream",
          "text": [
            "-0.4080014625290411\n"
          ]
        },
        {
          "data": {
            "image/png": "[encoded data removed]",
            "text/plain": [
              "<Figure size 432x288 with 1 Axes>"
            ]
          },
          "metadata": {},
          "output_type": "display_data"
        },
        {
          "name": "stdout",
          "output_type": "stream",
          "text": [
            "-0.6277056600229801\n"
          ]
        },
        {
          "data": {
            "image/png": "[encoded data removed]",
            "text/plain": [
              "<Figure size 432x288 with 1 Axes>"
            ]
          },
          "metadata": {},
          "output_type": "display_data"
        },
        {
          "name": "stdout",
          "output_type": "stream",
          "text": [
            "-1.3174402861713548\n"
          ]
        },
        {
          "data": {
            "image/png": "[encoded data removed]",
            "text/plain": [
              "<Figure size 432x288 with 1 Axes>"
            ]
          },
          "metadata": {},
          "output_type": "display_data"
        }
      ],
      "source": [
        "#visualization of some images' pixel distrubutions for feature engineering\n",
        "list_of_file_names = list_files_in_subdirs(\"test\")\n",
        "print()\n",
        "for file_name in sorted(list_of_file_names):\n",
        "  image = load_image(file_name)\n",
        "  #image = preprocess_image_secondary_split(image)\n",
        "  image = skimage.measure.block_reduce(image, (2,2), np.max) #min pooling to accentuate dark items\n",
        "  image = image[image != 0] #renove pure black (0) pixels\n",
        "  image = image[image > 30] #renove dark pixels that are less than 20 (very dark colours that are likely shadows)\n",
        "  image = image[image <= 240] #remove pure white (255) pixels\n",
        "  median_norm = image-np.median(image)\n",
        "  standard_median_norm = standardize_matrix(median_norm)\n",
        "  metric = np.percentile(standard_median_norm, q=10) - np.median(standard_median_norm)\n",
        "  print(metric)\n",
        "  plt.hist(standard_median_norm, bins=100)\n",
        "  plt.title(file_name)\n",
        "  plt.yscale('log')\n",
        "  plt.show()"
      ]
    }
  ],
  "metadata": {
    "colab": {
      "collapsed_sections": [
        "iKfc2T6fPmZ7",
        "baETo4RDlW56",
        "vVUQ-9XGynUR",
        "iGN8nsytw7bL",
        "rvzMfQ4K2p62",
        "7xdWLc6xej0M",
        "uCFI5KgM5I0_",
        "w7aPnUZ-4s-2"
      ],
      "name": "FINAL Droplet classification.ipynb",
      "provenance": []
    },
    "kernelspec": {
      "display_name": "Python 3",
      "name": "python3"
    },
    "language_info": {
      "name": "python"
    }
  },
  "nbformat": 4,
  "nbformat_minor": 0
}